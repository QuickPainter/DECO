{
 "cells": [
  {
   "cell_type": "markdown",
   "metadata": {},
   "source": [
    "### measure drift parameters from the Long disk size measurements"
   ]
  },
  {
   "cell_type": "code",
   "execution_count": 19,
   "metadata": {},
   "outputs": [],
   "source": [
    "import matplotlib.pyplot as plt\n",
    "import matplotlib.patches as patches\n",
    "import numpy as np\n",
    "import pandas as pd\n",
    "from scipy.optimize import fsolve\n",
    "%matplotlib inline\n",
    "import matplotlib as mpl\n",
    "mpl.rcParams.update(mpl.rcParamsDefault)\n",
    "from labellines import labelLine, labelLines"
   ]
  },
  {
   "cell_type": "code",
   "execution_count": 3,
   "metadata": {},
   "outputs": [],
   "source": [
    "from matplotlib import rc\n",
    "rc('text', usetex=True)\n",
    "rc('text.latex', preamble='\\\\usepackage{xcolor}')"
   ]
  },
  {
   "cell_type": "code",
   "execution_count": 4,
   "metadata": {},
   "outputs": [],
   "source": [
    "import astropy.constants as c\n",
    "import astropy.units as u\n",
    "au = c.au.cgs.value\n",
    "mH = c.m_p.cgs.value\n",
    "kB = c.k_B.cgs.value\n",
    "msun = c.M_sun.cgs.value\n",
    "G = c.G.cgs.value\n",
    "mearth = c.M_earth.cgs.value"
   ]
  },
  {
   "cell_type": "code",
   "execution_count": 5,
   "metadata": {},
   "outputs": [
    {
     "name": "stderr",
     "output_type": "stream",
     "text": [
      "<>:2: SyntaxWarning: invalid escape sequence '\\s'\n",
      "<>:2: SyntaxWarning: invalid escape sequence '\\s'\n",
      "/var/folders/vy/3w_cyymn26g4jzqfnt1dv5xm0000gn/T/ipykernel_3183/91353868.py:2: SyntaxWarning: invalid escape sequence '\\s'\n",
      "  df = pd.read_csv('/Users/calebpainter/Downloads/DECO/dust_drift/ALL_combined_table.txt', skiprows=2, header=0, sep='\\s+', names=colnames)\n"
     ]
    }
   ],
   "source": [
    "colnames = ['Source', 'dist', 'lambda', 'Rmm90', 'RCO90', 'Mdust', 'Lstar', 'Teff', 'Mstar', 'age', 'Ref']\n",
    "df = pd.read_csv('/Users/calebpainter/Downloads/DECO/dust_drift/ALL_combined_table.txt', skiprows=2, header=0, sep='\\s+', names=colnames)\n",
    "deco_df = pd.read_csv('/Users/calebpainter/Downloads/DECO/code/Radial_profiles_df2.csv')\n",
    "manara_table = pd.read_csv('/Users/calebpainter/Downloads/PP7-Surveys_2022-10-19_PPVII_website.tsv', sep='\\t')"
   ]
  },
  {
   "cell_type": "code",
   "execution_count": 54,
   "metadata": {},
   "outputs": [
    {
     "name": "stdout",
     "output_type": "stream",
     "text": [
      "J16083070-3828268 Lupus 158.0 122.37 329.28\n",
      "29.08 1.84 4900.0 1.27\n",
      "Sz65 Lupus 153.47 74.9 186.75\n",
      "21.19 0.89 4060.0 0.61\n",
      "MYLup Lupus 158.0 79.14 246.62\n",
      "50.35 0.85 5100.0 1.19\n",
      "Sz71 Lupus 155.2 96.56 236.05\n",
      "50.06 0.33 3632.0 0.414\n",
      "Sz118 Lupus 161.46 67.42 198.29\n",
      "18.37 0.72 4350.0 0.83\n",
      "Sz129 Lupus 160.13 64.14 126.36\n",
      "58.49 0.43 4060.0 0.73\n",
      "Sz98 Lupus 156.27 153.98 291.9\n",
      "75.85 1.53 4060.0 0.55\n",
      "Sz111 Lupus 158.37 125.78 439.44\n",
      "45.44 0.21 3705.0 0.52\n",
      "Sz130 Lupus 159.18 56.96 135.78\n",
      "1.5 0.18 3560.0 0.394\n",
      "J16124373-3815031 Lupus 159.85 38.95 112.56\n",
      "9.04 0.39 3705.0 0.47\n",
      "Sz68 Lupus 158.0 42.52 94.92\n",
      "49.8 5.42 4900.0 1.32\n",
      "J162739.4-243915 ROph 135.27 37.81 109.19\n",
      "36.61 1.122018454 3850.0 0.551\n",
      "J162854.1-244744 ROph 136.46 40.5 121.45\n",
      "7.58 0.5888436554 3632.0 0.396\n",
      "J162618.9-242820 ROph 137.53 77.69 234.41\n",
      "54.86 2.570395783 3850.0 0.5875\n",
      "J162645.0-242308 ROph 110.07 186.36 488.89\n",
      "113.81 1.513561248 3989.0 0.557\n",
      "J162823.3-242241 ROph 146.81 72.58 278.44\n",
      "10.99 1.737800829 4350.0 0.69\n",
      "J162556.1-242048 ROph 134.76 19.01 65.69\n",
      "38.45 1.819700859 4202.0 0.61\n",
      "J162739.0-235818 ROph 141.55 25.3 64.1\n",
      "20.26 1.584893192 4350.0 0.69\n",
      "J162623.6-242439 ROph 139.0 123.96 242.35\n",
      "80.97 0.5128679351 4060.0 0.69\n",
      "J162738.3-243658 ROph 139.46 84.23 201.31\n",
      "14.83 1.584893192 4350.0 0.65\n",
      "J11104959-7717517 ChamI 186.69 83.05 215.94\n",
      "21.07 0.201 3560.0 0.383\n",
      "J11075792-7738449 ChamI 191.0 119.77 334.73\n",
      "7.42 0.531 4350.0 0.82\n",
      "J11114632-7620092 ChamI 191.61 63.31 151.62\n",
      "13.39 1.491 4900.0 1.27\n",
      "J11173700-7704381 ChamI 188.88 78.04 138.33\n",
      "10.44 0.582 3780.0 0.52\n",
      "J11105333-7634319 ChamI 193.23 62.42 118.7\n",
      "12.0 0.237 3415.0 0.291\n",
      "J11095340-7634255 ChamI 191.0 98.67 210.93\n",
      "28.46 0.765 4060.0 0.65\n",
      "J11123092-7644241 ChamI 194.25 51.44 108.66\n",
      "4.76 0.27 3780.0 0.576\n",
      "J11085367-7521359 ChamI 190.51 70.11 195.97\n",
      "9.25 0.263 3705.0 0.497\n",
      "J10590108-7722407 ChamI 183.12 89.8 129.81\n",
      "22.7 0.509 4060.0 0.7\n",
      "J11095407-7629253 ChamI 191.0 125.97 313.15\n",
      "11.4 0.193 3705.0 0.544\n"
     ]
    },
    {
     "data": {
      "text/html": [
       "<div>\n",
       "<style scoped>\n",
       "    .dataframe tbody tr th:only-of-type {\n",
       "        vertical-align: middle;\n",
       "    }\n",
       "\n",
       "    .dataframe tbody tr th {\n",
       "        vertical-align: top;\n",
       "    }\n",
       "\n",
       "    .dataframe thead th {\n",
       "        text-align: right;\n",
       "    }\n",
       "</style>\n",
       "<table border=\"1\" class=\"dataframe\">\n",
       "  <thead>\n",
       "    <tr style=\"text-align: right;\">\n",
       "      <th></th>\n",
       "      <th>Source</th>\n",
       "      <th>dist</th>\n",
       "      <th>lambda</th>\n",
       "      <th>Rmm90</th>\n",
       "      <th>RCO90</th>\n",
       "      <th>Mdust</th>\n",
       "      <th>Lstar</th>\n",
       "      <th>Teff</th>\n",
       "      <th>Mstar</th>\n",
       "      <th>age</th>\n",
       "      <th>Ref</th>\n",
       "      <th>Rco/Rmm</th>\n",
       "    </tr>\n",
       "  </thead>\n",
       "  <tbody>\n",
       "    <tr>\n",
       "      <th>0</th>\n",
       "      <td>J16083070-3828268</td>\n",
       "      <td>158.00</td>\n",
       "      <td>1.2</td>\n",
       "      <td>122</td>\n",
       "      <td>329</td>\n",
       "      <td>29</td>\n",
       "      <td>1.84</td>\n",
       "      <td>4900</td>\n",
       "      <td>1.27</td>\n",
       "      <td>2.0</td>\n",
       "      <td>Manara</td>\n",
       "      <td>2.7</td>\n",
       "    </tr>\n",
       "    <tr>\n",
       "      <th>1</th>\n",
       "      <td>Sz65</td>\n",
       "      <td>153.47</td>\n",
       "      <td>1.2</td>\n",
       "      <td>75</td>\n",
       "      <td>187</td>\n",
       "      <td>21</td>\n",
       "      <td>0.89</td>\n",
       "      <td>4060</td>\n",
       "      <td>0.61</td>\n",
       "      <td>2.0</td>\n",
       "      <td>Manara</td>\n",
       "      <td>2.5</td>\n",
       "    </tr>\n",
       "    <tr>\n",
       "      <th>2</th>\n",
       "      <td>MYLup</td>\n",
       "      <td>158.00</td>\n",
       "      <td>1.2</td>\n",
       "      <td>79</td>\n",
       "      <td>247</td>\n",
       "      <td>50</td>\n",
       "      <td>0.85</td>\n",
       "      <td>5100</td>\n",
       "      <td>1.19</td>\n",
       "      <td>2.0</td>\n",
       "      <td>Manara</td>\n",
       "      <td>3.1</td>\n",
       "    </tr>\n",
       "    <tr>\n",
       "      <th>3</th>\n",
       "      <td>Sz71</td>\n",
       "      <td>155.20</td>\n",
       "      <td>1.2</td>\n",
       "      <td>97</td>\n",
       "      <td>236</td>\n",
       "      <td>50</td>\n",
       "      <td>0.33</td>\n",
       "      <td>3632</td>\n",
       "      <td>0.41</td>\n",
       "      <td>2.0</td>\n",
       "      <td>Manara</td>\n",
       "      <td>2.4</td>\n",
       "    </tr>\n",
       "    <tr>\n",
       "      <th>4</th>\n",
       "      <td>Sz118</td>\n",
       "      <td>161.46</td>\n",
       "      <td>1.2</td>\n",
       "      <td>67</td>\n",
       "      <td>198</td>\n",
       "      <td>18</td>\n",
       "      <td>0.72</td>\n",
       "      <td>4350</td>\n",
       "      <td>0.83</td>\n",
       "      <td>2.0</td>\n",
       "      <td>Manara</td>\n",
       "      <td>2.9</td>\n",
       "    </tr>\n",
       "  </tbody>\n",
       "</table>\n",
       "</div>"
      ],
      "text/plain": [
       "              Source    dist  lambda  Rmm90  RCO90  Mdust  Lstar  Teff  Mstar  \\\n",
       "0  J16083070-3828268  158.00     1.2    122    329     29   1.84  4900   1.27   \n",
       "1               Sz65  153.47     1.2     75    187     21   0.89  4060   0.61   \n",
       "2              MYLup  158.00     1.2     79    247     50   0.85  5100   1.19   \n",
       "3               Sz71  155.20     1.2     97    236     50   0.33  3632   0.41   \n",
       "4              Sz118  161.46     1.2     67    198     18   0.72  4350   0.83   \n",
       "\n",
       "   age     Ref  Rco/Rmm  \n",
       "0  2.0  Manara      2.7  \n",
       "1  2.0  Manara      2.5  \n",
       "2  2.0  Manara      3.1  \n",
       "3  2.0  Manara      2.4  \n",
       "4  2.0  Manara      2.9  "
      ]
     },
     "execution_count": 54,
     "metadata": {},
     "output_type": "execute_result"
    }
   ],
   "source": [
    "full_dict = []\n",
    "\n",
    "for line in range(len(deco_df)):\n",
    "    disk_row = deco_df.iloc[line]\n",
    "    name, region, distance, r_mm, r_co = disk_row['Name'], disk_row['Region'], disk_row['distance'], disk_row['r_dust_90_corr'], disk_row['r_co_90_corr']\n",
    "    print(name, region, distance, r_mm, r_co)\n",
    "\n",
    "    manara_row = manara_table[manara_table['Source']==name]\n",
    "\n",
    "\n",
    "    Mdust, Lstar, Teff, Mstar = manara_row['Standardized_Mdust_Mearth'].values[0], manara_row['Lstar_xs'].values[0], manara_row['Teff_xs'].values[0], manara_row['Mstar_PPVII'].values[0]\n",
    "    Mdust, Lstar, Teff, Mstar = float(Mdust), float(Lstar), float(Teff), float(Mstar)\n",
    "    print(Mdust, Lstar, Teff, Mstar)\n",
    "\n",
    "    age = 0\n",
    "    if region == 'Lupus':\n",
    "        age = 2.0\n",
    "    if region == 'ROph':\n",
    "        age = 1.0\n",
    "    if region == 'ChamI':\n",
    "        age = 2.0\n",
    "\n",
    "\n",
    "    disk_row_dict = {\n",
    "        'Source': name,\n",
    "        'dist': distance,\n",
    "        'lambda': 1.2,\n",
    "        'Rmm90': int(np.round(r_mm)),\n",
    "        'RCO90': int(np.round(r_co)),\n",
    "        'Mdust': int(np.round(Mdust)),\n",
    "        'Lstar': np.round(Lstar,2),\n",
    "        'Teff': int(Teff),\n",
    "        'Mstar': np.round(Mstar,2),\n",
    "        'age': age,\n",
    "        'Ref': 'Manara',\n",
    "        'Rco/Rmm': np.round(r_co/r_mm,1)\n",
    "    }\n",
    "\n",
    "    full_dict.append(disk_row_dict)\n",
    "    \n",
    "full_deco_df = pd.DataFrame.from_dict(full_dict)\n",
    "\n",
    "full_deco_df.head()"
   ]
  },
  {
   "cell_type": "code",
   "execution_count": 59,
   "metadata": {},
   "outputs": [
    {
     "name": "stderr",
     "output_type": "stream",
     "text": [
      "<>:2: SyntaxWarning: invalid escape sequence '\\s'\n",
      "<>:2: SyntaxWarning: invalid escape sequence '\\s'\n",
      "/var/folders/vy/3w_cyymn26g4jzqfnt1dv5xm0000gn/T/ipykernel_3183/237186783.py:2: SyntaxWarning: invalid escape sequence '\\s'\n",
      "  times_df = pd.read_csv('drift_fit_results.txt', skiprows=1, header=0, sep='\\s+', names=colnames)\n"
     ]
    }
   ],
   "source": [
    "colnames = ['Source', 't_star', 't_drift_min', 't_drift_max', 'M_min', 'M_max']\n",
    "times_df = pd.read_csv('drift_fit_results.txt', skiprows=1, header=0, sep='\\s+', names=colnames)"
   ]
  },
  {
   "cell_type": "code",
   "execution_count": 67,
   "metadata": {},
   "outputs": [],
   "source": [
    "deco_df_copy = full_deco_df[['Source','age','Lstar','Teff','Mstar','Mdust','Rmm90','lambda','RCO90','Rco/Rmm']].copy()\n",
    "deco_df_copy['t_case1'] = np.round(list(times_df['t_drift_min']),2)\n",
    "deco_df_copy['t_case2'] = np.round(list(times_df['t_drift_max']),2)\n",
    "deco_df_copy['mass_case2'] = np.round(list(times_df['M_max']),2)"
   ]
  },
  {
   "cell_type": "code",
   "execution_count": 69,
   "metadata": {},
   "outputs": [
    {
     "name": "stdout",
     "output_type": "stream",
     "text": [
      "\\begin{tabular}{llrrrrrrrrrrrr}\n",
      "\\toprule\n",
      " & Source & age & Lstar & Teff & Mstar & Mdust & Rmm90 & lambda & RCO90 & Rco/Rmm & t_case1 & t_case2 & mass_case2 \\\\\n",
      "\\midrule\n",
      "0 & J16083070-3828268 & 2.00 & 1.84 & 4900 & 1.27 & 29 & 122 & 1.20 & 329 & 2.70 & 0.10 & 1.45 & 0.25 \\\\\n",
      "1 & Sz65 & 2.00 & 0.89 & 4060 & 0.61 & 21 & 75 & 1.20 & 187 & 2.50 & 0.08 & 1.13 & 0.18 \\\\\n",
      "2 & MYLup & 2.00 & 0.85 & 5100 & 1.19 & 50 & 79 & 1.20 & 247 & 3.10 & 0.26 & 2.49 & 0.22 \\\\\n",
      "3 & Sz71 & 2.00 & 0.33 & 3632 & 0.41 & 50 & 97 & 1.20 & 236 & 2.40 & 0.14 & 1.08 & 0.21 \\\\\n",
      "4 & Sz118 & 2.00 & 0.72 & 4350 & 0.83 & 18 & 67 & 1.20 & 198 & 2.90 & 0.11 & 2.20 & 0.20 \\\\\n",
      "5 & Sz129 & 2.00 & 0.43 & 4060 & 0.73 & 58 & 64 & 1.20 & 126 & 2.00 & 0.09 & 0.42 & 0.17 \\\\\n",
      "6 & Sz98 & 2.00 & 1.53 & 4060 & 0.55 & 76 & 154 & 1.20 & 292 & 1.90 & 0.07 & 0.36 & 0.22 \\\\\n",
      "7 & Sz111 & 2.00 & 0.21 & 3705 & 0.52 & 45 & 126 & 1.20 & 439 & 3.50 & 0.19 & 2.78 & 0.27 \\\\\n",
      "8 & Sz130 & 2.00 & 0.18 & 3560 & 0.39 & 2 & 57 & 1.20 & 136 & 2.40 & 0.01 & 0.98 & 0.16 \\\\\n",
      "9 & J16124373-3815031 & 2.00 & 0.39 & 3705 & 0.47 & 9 & 39 & 1.20 & 113 & 2.90 & 0.08 & 2.28 & 0.15 \\\\\n",
      "10 & Sz68 & 2.00 & 5.42 & 4900 & 1.32 & 50 & 43 & 1.20 & 95 & 2.20 & 0.15 & 0.74 & 0.14 \\\\\n",
      "11 & J162739.4-243915 & 1.00 & 1.12 & 3850 & 0.55 & 37 & 38 & 1.20 & 109 & 2.90 & 0.27 & 2.29 & 0.15 \\\\\n",
      "12 & J162854.1-244744 & 1.00 & 0.59 & 3632 & 0.40 & 8 & 40 & 1.20 & 121 & 3.00 & 0.08 & 2.56 & 0.15 \\\\\n",
      "13 & J162618.9-242820 & 1.00 & 2.57 & 3850 & 0.59 & 55 & 78 & 1.20 & 234 & 3.00 & 0.27 & 2.28 & 0.22 \\\\\n",
      "14 & J162645.0-242308 & 1.00 & 1.51 & 3989 & 0.56 & 114 & 186 & 1.20 & 489 & 2.60 & 0.22 & 1.24 & 0.28 \\\\\n",
      "15 & J162823.3-242241 & 1.00 & 1.74 & 4350 & 0.69 & 11 & 73 & 1.20 & 278 & 3.80 & 0.09 & 4.18 & 0.23 \\\\\n",
      "16 & J162556.1-242048 & 1.00 & 1.82 & 4202 & 0.61 & 38 & 19 & 1.20 & 66 & 3.50 & 0.70 & 5.23 & 0.12 \\\\\n",
      "17 & J162739.0-235818 & 1.00 & 1.58 & 4350 & 0.69 & 20 & 25 & 1.20 & 64 & 2.50 & 0.15 & 1.47 & 0.12 \\\\\n",
      "18 & J162623.6-242439 & 1.00 & 0.51 & 4060 & 0.69 & 81 & 124 & 1.20 & 242 & 2.00 & 0.09 & 0.41 & 0.22 \\\\\n",
      "19 & J162738.3-243658 & 1.00 & 1.58 & 4350 & 0.65 & 15 & 84 & 1.20 & 201 & 2.40 & 0.05 & 1.01 & 0.20 \\\\\n",
      "20 & J11104959-7717517 & 2.00 & 0.20 & 3560 & 0.38 & 21 & 83 & 1.20 & 216 & 2.60 & 0.09 & 1.40 & 0.21 \\\\\n",
      "21 & J11075792-7738449 & 2.00 & 0.53 & 4350 & 0.82 & 7 & 120 & 1.20 & 335 & 2.80 & 0.03 & 1.64 & 0.25 \\\\\n",
      "22 & J11114632-7620092 & 2.00 & 1.49 & 4900 & 1.27 & 13 & 63 & 1.20 & 152 & 2.40 & 0.06 & 0.98 & 0.16 \\\\\n",
      "23 & J11173700-7704381 & 2.00 & 0.58 & 3780 & 0.52 & 10 & 78 & 1.20 & 138 & 1.80 & 0.02 & 0.21 & 0.14 \\\\\n",
      "24 & J11105333-7634319 & 2.00 & 0.24 & 3415 & 0.29 & 12 & 62 & 1.20 & 119 & 1.90 & 0.02 & 0.31 & 0.14 \\\\\n",
      "25 & J11095340-7634255 & 2.00 & 0.76 & 4060 & 0.65 & 28 & 99 & 1.20 & 211 & 2.10 & 0.06 & 0.63 & 0.21 \\\\\n",
      "26 & J11123092-7644241 & 2.00 & 0.27 & 3780 & 0.58 & 5 & 51 & 1.20 & 109 & 2.10 & 0.02 & 0.67 & 0.20 \\\\\n",
      "27 & J11085367-7521359 & 2.00 & 0.26 & 3705 & 0.50 & 9 & 70 & 1.20 & 196 & 2.80 & 0.06 & 1.74 & 0.18 \\\\\n",
      "28 & J10590108-7722407 & 2.00 & 0.51 & 4060 & 0.70 & 23 & 90 & 1.20 & 130 & 1.40 & 0.01 & 0.06 & 0.19 \\\\\n",
      "29 & J11095407-7629253 & 2.00 & 0.19 & 3705 & 0.54 & 11 & 126 & 1.20 & 313 & 2.50 & 0.04 & 1.12 & 0.24 \\\\\n",
      "\\bottomrule\n",
      "\\end{tabular}\n",
      "\n"
     ]
    }
   ],
   "source": [
    "latex_table = deco_df_copy.to_latex(float_format=\"%.2f\")\n",
    "print(latex_table),"
   ]
  },
  {
   "cell_type": "code",
   "execution_count": 8,
   "metadata": {},
   "outputs": [
    {
     "ename": "NameError",
     "evalue": "name 'sigma1' is not defined",
     "output_type": "error",
     "traceback": [
      "\u001b[0;31m---------------------------------------------------------------------------\u001b[0m",
      "\u001b[0;31mNameError\u001b[0m                                 Traceback (most recent call last)",
      "Cell \u001b[0;32mIn[8], line 6\u001b[0m\n\u001b[1;32m      3\u001b[0m fig, ax \u001b[38;5;241m=\u001b[39m plt\u001b[38;5;241m.\u001b[39msubplots(figsize\u001b[38;5;241m=\u001b[39m(\u001b[38;5;241m10\u001b[39m,\u001b[38;5;241m7\u001b[39m))\n\u001b[1;32m      5\u001b[0m r \u001b[38;5;241m=\u001b[39m np\u001b[38;5;241m.\u001b[39marange(\u001b[38;5;241m0\u001b[39m,\u001b[38;5;241m1000\u001b[39m, \u001b[38;5;241m1\u001b[39m)\n\u001b[0;32m----> 6\u001b[0m sigma \u001b[38;5;241m=\u001b[39m \u001b[43msigma1\u001b[49m(r, \u001b[38;5;241m300\u001b[39m,\u001b[38;5;241m55\u001b[39m)\n\u001b[1;32m      7\u001b[0m sigma \u001b[38;5;241m=\u001b[39m sigma1(r, \u001b[38;5;241m40\u001b[39m,\u001b[38;5;241m150\u001b[39m)\n\u001b[1;32m      8\u001b[0m sigma \u001b[38;5;241m=\u001b[39m sigma1(r, \u001b[38;5;241m10\u001b[39m,\u001b[38;5;241m150\u001b[39m)\n",
      "\u001b[0;31mNameError\u001b[0m: name 'sigma1' is not defined"
     ]
    }
   ],
   "source": [
    "csfont = {'fontname':'Verdana', 'fontsize':20}\n",
    "\n",
    "fig, ax = plt.subplots(figsize=(10,7))\n",
    "\n",
    "r = np.arange(0,1000, 1)\n",
    "sigma = sigma1(r, 300,55)\n",
    "sigma = sigma1(r, 40,150)\n",
    "sigma = sigma1(r, 10,150)\n",
    "sigma = sigma1(r, 2,150)\n",
    "\n",
    "\n",
    "ax.plot(r,sigma, zorder=1, linewidth=3, color='black')\n",
    "# ax.fill_between(r,sigma, 0, color='black', alpha=.3)\n",
    "\n",
    "# # sigma = sigma1(r, 2,150)\n",
    "# ax.scatter(r[80],sigma[80], color='tab:red',zorder=2, s=300, marker='d',label='Dust Radius')\n",
    "# ax.annotate(r'$t_{\\rm drift}$ = 0.2 Myr', (r[80]+10,sigma[80]),**csfont, )\n",
    "\n",
    "# sigma = sigma1(r, 2,150)\n",
    "# ax.scatter(r[80],sigma[80], color='tab:red',zorder=2, s=300, marker='d',label='Dust Radius')\n",
    "# ax.annotate(r'$t_{\\rm drift}$ = 0.02 Myr', (r[80]+10,sigma[80]),**csfont, )\n",
    "\n",
    "# sigma = sigma1(r, 60,150)\n",
    "# ax.scatter(r[80],sigma[80], color='tab:red',zorder=2, s=300, marker='d',label='Dust Radius')\n",
    "# ax.annotate(r'$t_{\\rm drift}$ = 2.0 Myr', (r[80]+10,sigma[80]),**csfont, )\n",
    "\n",
    "\n",
    "# ax.scatter(r[200],sigma[200], color='tab:blue',zorder=2, s=300,label='CO Radius')\n",
    "\n",
    "\n",
    "ax.set_xscale('log')\n",
    "ax.set_yscale('log')\n",
    "ax.set_ylim(5*10**-2, 5*10**3)\n",
    "ax.set_xlim(10,800)\n",
    "ax.minorticks_on()\n",
    "ax.yaxis.set_tick_params(which='minor', bottom=False)\n",
    "ax.tick_params(labelsize=20)\n",
    "\n",
    "ax.set_xlabel(\"Radius [au]\", **csfont)\n",
    "ax.set_ylabel(r\"Surface Density [g/cm$^2$]\", **csfont)\n",
    "ax.spines[['right', 'top']].set_visible(False)\n",
    "# ax.text(15, 1, r'Mass: $0.2$ M$_\\odot$', **csfont)\n",
    "# plt.legend(fontsize=20)\n",
    "# ax.grid(which='both')\n",
    "# plt.title(\"Drift Time: 0.1 Myr\", fontname='Verdana', fontsize=30)\n",
    "plt.savefig('/Users/calebpainter/Desktop/pres_figs/slide4__0')\n",
    "plt.show()"
   ]
  },
  {
   "cell_type": "code",
   "execution_count": 9,
   "metadata": {},
   "outputs": [],
   "source": [
    "# Lynden-Bell & Pringle surface density profile for gamma=1\n",
    "def sigma1(r, sigma0, rc):\n",
    "    return sigma0 / (r/rc) / np.exp(r/rc)\n",
    "\n",
    "def logsigma1(r, sigma0, rc):\n",
    "    return np.log10(sigma0 / (r/rc) / np.exp(r/rc))"
   ]
  },
  {
   "cell_type": "code",
   "execution_count": 10,
   "metadata": {},
   "outputs": [],
   "source": [
    "# Powell prescription for the surface density at 1 Myr; all variables in cgs\n",
    "def powell(v0, rho_s, s, r):\n",
    "    Myr2seconds = 3.15e13\n",
    "    Sigma_dust = 2.5 * Myr2seconds * v0 * rho_s * s / r\n",
    "    return Sigma_dust"
   ]
  },
  {
   "cell_type": "code",
   "execution_count": 11,
   "metadata": {},
   "outputs": [],
   "source": [
    "# Trapman prescription for the surface density in g/cm2 at the 90% CO radius for a disk with gas+dust mass M\n",
    "def trapman(M, L):\n",
    "    logL = np.log10(L)\n",
    "    #Sigma_CO = 0.0143 * M**0.34\n",
    "    Sigma_CO = 10**(-2.15-0.53*logL) * M**(0.30-0.08*logL)\n",
    "    return Sigma_CO"
   ]
  },
  {
   "cell_type": "code",
   "execution_count": 12,
   "metadata": {},
   "outputs": [],
   "source": [
    "def fitsigma1(R, Sigma):\n",
    "    # solve equation for gamma=1\n",
    "    Rc = (R[0]-R[1]) / np.log(Sigma[1]*R[1] / (Sigma[0]*R[0]))\n",
    "    Sigma0 = Sigma[0] * (R[0] / Rc) * np.exp(R[0]/Rc)\n",
    "    return Sigma0, Rc"
   ]
  },
  {
   "cell_type": "code",
   "execution_count": 13,
   "metadata": {},
   "outputs": [],
   "source": [
    "def match_mass(t, R, Sigma, Mdust):\n",
    "    Sigma_drift = Sigma.copy()\n",
    "    Sigma_drift[0] *= t\n",
    "    Sigma0, Rc = fitsigma1(R, Sigma_drift)\n",
    "\n",
    "    x = np.logspace(0, 3, num=30)\n",
    "    M = 3.747e-4 * np.trapz(2*np.pi*x*sigma1(x, Sigma0, Rc), x)    # earth masses of dust (for g/d=100)\n",
    "\n",
    "    return M-Mdust"
   ]
  },
  {
   "cell_type": "code",
   "execution_count": 14,
   "metadata": {},
   "outputs": [],
   "source": [
    "def toomre(t, R, Sigma, Mstar, Lstar):\n",
    "    Sigma_drift = Sigma.copy()\n",
    "    Sigma_drift[0] *= t\n",
    "    Sigma0, Rc = fitsigma1(R, Sigma_drift)\n",
    "\n",
    "    x = np.logspace(0, 3, num=30)\n",
    "    T0 = 82 * (Lstar/0.28)**(2/7) / (Mstar/0.8)**(1/7) \n",
    "    T = T0 * x**(-3/7)\n",
    "    c_s = 5952 * np.sqrt(T)\n",
    "    Omega = 1.99e-7 * np.sqrt(Mstar / x**3)\n",
    "    Q = 4.77e6 * c_s * Omega / sigma1(x, Sigma0, Rc)\n",
    "    Qmin = np.min(Q)\n",
    "\n",
    "    return Qmin-1"
   ]
  },
  {
   "cell_type": "code",
   "execution_count": 15,
   "metadata": {},
   "outputs": [],
   "source": [
    "def mq(R, Sigma0, Rc, Mstar, Lstar):\n",
    "    # calculate the total mass and Toomre Q profile over R in au\n",
    "    Sigma_fit = sigma1(R, Sigma0, Rc)\n",
    "\n",
    "    # integrate Sigma to get total mass\n",
    "    M = 1.125e-7 * np.trapz(Sigma_fit*2*np.pi*R, R)    # solar masses\n",
    "\n",
    "    T0 = 82 * (Lstar/0.28)**(2/7) / (Mstar/0.8)**(1/7) \n",
    "    T = T0 * R**(-3/7)\n",
    "    c_s = 5952 * np.sqrt(T)\n",
    "    Omega = 1.99e-7 * np.sqrt(Mstar / R**3)\n",
    "    Q = 4.77e6 * c_s * Omega / Sigma_fit\n",
    "\n",
    "    max_sigma = 4.77e6 * c_s * Omega\n",
    "\n",
    "    return M, Q, max_sigma"
   ]
  },
  {
   "cell_type": "code",
   "execution_count": 16,
   "metadata": {},
   "outputs": [],
   "source": [
    "def get_data_points(df, iloc):\n",
    "    Mstar = df['Mstar'][iloc]                           # Msun\n",
    "    Lstar = df['Lstar'][iloc]                           # Lsun\n",
    "    T0 = 82 * (Lstar/0.28)**(2/7) / (Mstar/0.8)**(1/7)  # midplane temperature at 1au Powell 2017 equation 2\n",
    "    #print(T0)\n",
    "    rho_s = 2.0                                         # g/cm^3\n",
    "    s = df['lambda'][iloc] / (20*np.pi)                 # grain size in cm\n",
    "\n",
    "    # dust and CO radii in au\n",
    "    R_obs = np.array([df['Rmm90'][iloc], df['RCO90'][iloc]])\n",
    "\n",
    "    # drift speed in cm/s\n",
    "    T = T0 * (R_obs[0])**(-3/7)\n",
    "    c_s = np.sqrt(kB * T / (2.33 * mH))\n",
    "    v_k = np.sqrt(G * Mstar * msun / (R_obs[0] * au))\n",
    "    v0 = c_s**2 / (2 * v_k)\n",
    "    print(f'Drift speed = {v0/1e5:5.3f} km/s')\n",
    "\n",
    "    # dust mass assuming Tdust=20K, in earth masses\n",
    "    # disk mass for gas/dust=100, in solar masses\n",
    "    Mdust = df['Mdust'][iloc]\n",
    "    Mdisk = 100 * Mdust * mearth/msun\n",
    "    print(f'Dust mass ={Mdust:6.2f} earth masses, total disk mass ={Mdisk:6.4f} solar masses')\n",
    "\n",
    "    # surface density for dust at 1 Myr and CO at given Mdisk\n",
    "    Sigma = np.array([powell(v0, rho_s, s, R_obs[0]*au), trapman(Mdisk, Lstar)])\n",
    "\n",
    "    return(R_obs, Sigma, Mdust)"
   ]
  },
  {
   "cell_type": "code",
   "execution_count": 17,
   "metadata": {},
   "outputs": [],
   "source": [
    "def fit_data(df, iloc, t_start, m_start, plot_to_screen=True, panelplot=False, ax=None):\n",
    "    source = df['Source'][iloc]\n",
    "    print(f'Source: {source}')\n",
    "    Mstar = df['Mstar'][iloc]\n",
    "    Lstar = df['Lstar'][iloc]\n",
    "    tstar = df['age'][iloc]\n",
    "    R_obs, Sigma, Mdust = get_data_points(df, iloc)\n",
    "\n",
    "    if plot_to_screen:\n",
    "        plt.ion()\n",
    "    else:\n",
    "        plt.ioff()\n",
    "\n",
    "    if panelplot:\n",
    "        fontsize = 15\n",
    "    else:\n",
    "        fig = plt.figure(figsize=(8,6))\n",
    "        ax = fig.add_subplot(111)\n",
    "        fontsize = 16\n",
    "\n",
    "    ax.set_xscale('log')\n",
    "    ax.set_yscale('log')\n",
    "    ax.set_xlim(20, 500)\n",
    "    ax.set_ylim(1e-4, 1e3)\n",
    "\n",
    "    # ax2 = ax.twinx()\n",
    "    # ax2.set_yscale('log')\n",
    "    # ax2.set_ylim(0.1, 100)\n",
    "    # ax2.plot([0, 1e3], [1, 1], ':', lw=3, alpha=0.5, color='black')\n",
    "\n",
    "    if not panelplot:\n",
    "        ax.set_xlabel('Radius (au)', **csfont)\n",
    "        ax.set_ylabel(r'$\\Sigma_{\\rm gas}$ (g cm$^{-2}$)', **csfont)\n",
    "        # ax2.set_ylabel('Toomre Q', fontsize=fontsize)\n",
    "        #ax.grid(which='both', alpha=0.3, ls='--') \n",
    "\n",
    "    # make main axis visible above second without hiding it\n",
    "    ax.set_zorder(1)\n",
    "    ax.patch.set_visible(False)\n",
    "\n",
    "    R_plot = np.logspace(0, 3, num=100)\n",
    "    M_fit = []\n",
    "    max_iter = 10\n",
    "\n",
    "    # initial guesses for drif time and max stable disk mass\n",
    "    t0 = 1.0\n",
    "    mdisk0 = 0.1\n",
    "\n",
    "    if t_start != None:\n",
    "        t0 = t_start,\n",
    "        mdisk0 = m_start\n",
    "    # some disks need different starting conditions to converge\n",
    "    if source in ['DoAr25', 'FPTau']:\n",
    "        t0 = 0.1\n",
    "        mdisk0 = 0.01\n",
    "    if source in ['IQTau', 'Sz129', 'Sz71', 'Sz98']:\n",
    "        t0 = 0.5\n",
    "        mdisk0 = 0.2\n",
    "    if source == 'HD143006':\n",
    "        t0 = 1\n",
    "        mdisk0 = 0.3\n",
    "    if source == 'J04202555+2700355':\n",
    "        t0 = 0.01\n",
    "        mdisk0 = 0.01\n",
    "    if source in ['J162623.6-242439','Sz130','J11104959-7717517','J11173700-7704381','J11105333-7634319']:\n",
    "        t0 = 0.1\n",
    "        mdisk0 = 0.1\n",
    "    if source == 'TWHya':\n",
    "        t0 = 2\n",
    "        mdisk0 = 0.2\n",
    "    if source == 'J10590108-7722407':\n",
    "        t0 = .05\n",
    "        mdisk0 = 0.2\n",
    "\n",
    "    # solve for the two extreme cases\n",
    "    for i in range(2):\n",
    "        if i == 0:\n",
    "            # disk mass = 100 * dust mass\n",
    "            label = '100 x Dust Mass'\n",
    "            color = 'tab:blue'\n",
    "            #label = str(f\"100M_dust = {100*Mdust*mearth/msun:6.3f}\")\n",
    "            #label = str(f\"$M = {100*Mdust*mearth/msun:6.3f} M_\\odot$\")\n",
    "            t_drift = fsolve(match_mass, t0, args=(R_obs, Sigma, Mdust))[0]\n",
    "            td0 = t_drift\n",
    "        if i == 1:\n",
    "            # disk is marginally gravitationally stable\n",
    "            color = 'tab:red'\n",
    "            label = 'Min Q'\n",
    "            iter = 0\n",
    "            mdisk_converge = False\n",
    "            while iter < max_iter and not mdisk_converge:\n",
    "                Sigma_iter = Sigma.copy()\n",
    "                Sigma_iter[1] = trapman(mdisk0, Lstar)\n",
    "                t_drift = fsolve(toomre, t0, args=(R_obs, Sigma_iter, Mstar, Lstar))[0]\n",
    "                Sigma_iter[0] *= t_drift\n",
    "                Sigma0, Rc = fitsigma1(R_obs, Sigma_iter)\n",
    "                Sigma_fit = sigma1(R_plot, Sigma0, Rc)\n",
    "                mdisk1 = 1.125e-7 * np.trapz(Sigma_fit*2*np.pi*R_plot, R_plot)\n",
    "                print(f'Trapman iteration {iter}: t_drift={t_drift:6.3f}   Mass change {mdisk0:6.3f} --> {mdisk1:6.3f}')\n",
    "                if np.abs(mdisk1/mdisk0-1) <  0.99:\n",
    "                    mdisk_converge = True\n",
    "                mdisk0 = mdisk1\n",
    "                iter += 1\n",
    "            #label = str(f\"M(Q=1) = {mdisk0:6.3f}\")\n",
    "            #label = str(f\"$M = {mdisk0:6.3f} M_\\odot$\")\n",
    "        Sigma_drift = Sigma.copy()\n",
    "        Sigma_drift[0] *= t_drift\n",
    "        td1 = t_drift\n",
    "        if i==1:\n",
    "            Sigma_drift[1] = trapman(mdisk0, Lstar)\n",
    "\n",
    "        ax.scatter(R_obs[0], Sigma_drift[0], color=color, marker='d',s=100)\n",
    "        ax.annotate(r'$t$'+f'={np.round(td1,1)} Myr', (.55*R_obs[0], .7*Sigma_drift[0]),color=color, fontsize=15)\n",
    "        ax.scatter(R_obs[1], Sigma_drift[1], color=color,s=100)\n",
    "\n",
    "\n",
    "        Sigma0, Rc = fitsigma1(R_obs, Sigma_drift)\n",
    "        M, Q, max_sigma = mq(R_plot, Sigma0, Rc, Mstar, Lstar)\n",
    "        M_fit.append(M)\n",
    "\n",
    "        Sigma_plot = sigma1(R_plot, Sigma0, Rc)\n",
    "        tau1 = Sigma_plot > 50\n",
    "        ax.plot(R_plot, Sigma_plot, '-', color=color, lw=2, label=label)\n",
    "        ax.plot(R_plot[tau1], Sigma_plot[tau1], '-', color=color, lw=2)\n",
    "        ax.plot(R_plot, max_sigma, '-', color='black', lw=2, ls='--')\n",
    "\n",
    "        print(ax.get_lines())\n",
    "        ax.text(200,5,\"Q=1\", rotation=-12, **csfont)\n",
    "        # ax2.plot(R_plot, Q, '--', color=color, zorder=0)\n",
    "        ax.legend(loc='lower left',fontsize=15)\n",
    "        ax.tick_params(labelsize=20)\n",
    "        ax.set_title(source, **csfont)\n",
    "        print(f'tdrift ={t_drift:6.3f} Myr, M = {M:6.4f} solar masses, Qmin = {np.min(Q):5.2f}')\n",
    "\n",
    "    # rect = patches.Rectangle((0.02, 0.02), 0.26, 0.22, edgecolor='None', facecolor='white', alpha=0.8, transform=ax.transAxes, zorder=2)\n",
    "    # ax.add_patch(rect)\n",
    "    # ax.text(0.03, 0.17, source, fontsize=fontsize, ha='left', transform=ax.transAxes, zorder=3)\n",
    "    # ax.text(0.03, 0.125, f'Stellar age = {tstar:4.1f} Myr', fontsize=fontsize-4, ha='left', transform=ax.transAxes, zorder=3)\n",
    "    # #ax.text(0.03, 0.04, f'Drift times = {td0:3.1f}-{td1:3.1f} Myr', fontsize=fontsize-4, ha='left', transform=ax.transAxes, zorder=3)\n",
    "\n",
    "    # M1str = str(f\"{100*Mdust*mearth/msun:6.3f}\")\n",
    "    # t1str = str(f\"{td0:4.1f}\")\n",
    "    # #ax.text(0.03, 0.08, \"Case 1: $M=100M_{dust}=$\"+M1str+\"$M_\\odot, t_{drift}=$\"+t1str+\" Myr\", color='blue', fontsize=fontsize-5, ha='left', transform=ax.transAxes, zorder=3)\n",
    "    # ax.text(0.03, 0.08, \"Case 1: $M=$\"+M1str+\"$M_\\odot, t_{drift}=$\"+t1str+\" Myr\", color='blue', fontsize=fontsize-5, ha='left', transform=ax.transAxes, zorder=3)\n",
    "    # M2str = str(f\"{mdisk0:6.3f}\")\n",
    "    # t2str = str(f\"{td1:4.1f}\")\n",
    "    # #ax.text(0.03, 0.04, \"Case 2: $M(Q_{min}=1)=$\"+M2str+\"$M_\\odot, t_{drift}=$\"+t2str+\" Myr\", color='red', fontsize=fontsize-5, ha='left', transform=ax.transAxes, zorder=3)\n",
    "    # ax.text(0.03, 0.04, \"Case 2: $M=$\"+M2str+\"$M_\\odot, t_{drift}=$\"+t2str+\" Myr\", color='red', fontsize=fontsize-5, ha='left', transform=ax.transAxes, zorder=3)\n",
    "\n",
    "    if not panelplot:\n",
    "        fig.tight_layout()\n",
    "        fig.savefig('disk_pdfs/'+source+'.pdf')\n",
    "\n",
    "    if not plot_to_screen:\n",
    "        plt.close()\n",
    "\n",
    "    return td0, td1, *M_fit"
   ]
  },
  {
   "cell_type": "code",
   "execution_count": 30,
   "metadata": {},
   "outputs": [
    {
     "name": "stdout",
     "output_type": "stream",
     "text": [
      "Source: J162618.9-242820\n",
      "Drift speed = 0.012 km/s\n",
      "Dust mass = 54.86 earth masses, total disk mass =0.0165 solar masses\n",
      "<a list of 3 Line2D objects>\n",
      "tdrift = 0.267 Myr, M = 0.0163 solar masses, Qmin = 14.14\n",
      "Trapman iteration 0: t_drift= 2.272   Mass change  0.200 -->  0.213\n",
      "<a list of 6 Line2D objects>\n",
      "tdrift = 2.272 Myr, M = 0.2117 solar masses, Qmin =  1.01\n"
     ]
    },
    {
     "name": "stderr",
     "output_type": "stream",
     "text": [
      "/var/folders/vy/3w_cyymn26g4jzqfnt1dv5xm0000gn/T/ipykernel_3183/1905761061.py:3: DeprecationWarning: Conversion of an array with ndim > 0 to a scalar is deprecated, and will error in future. Ensure you extract a single element from your array before performing this operation. (Deprecated NumPy 1.25.)\n",
      "  Sigma_drift[0] *= t\n",
      "/var/folders/vy/3w_cyymn26g4jzqfnt1dv5xm0000gn/T/ipykernel_3183/3957698185.py:125: UserWarning: linestyle is redundantly defined by the 'linestyle' keyword argument and the fmt string \"-\" (-> linestyle='-'). The keyword argument will take precedence.\n",
      "  ax.plot(R_plot, max_sigma, '-', color='black', lw=2, ls='--')\n"
     ]
    },
    {
     "data": {
      "text/plain": [
       "(0.26683050090966925,\n",
       " 2.2724783430105338,\n",
       " 0.0163252630594321,\n",
       " 0.2117214375503588)"
      ]
     },
     "execution_count": 30,
     "metadata": {},
     "output_type": "execute_result"
    },
    {
     "data": {
      "image/png": "[encoded data removed]",
      "text/plain": [
       "<Figure size 800x600 with 1 Axes>"
      ]
     },
     "metadata": {},
     "output_type": "display_data"
    }
   ],
   "source": [
    "t_start, m_start = .05,.2\n",
    "fit_data(full_deco_df,13, t_start, m_start, plot_to_screen=True)"
   ]
  },
  {
   "cell_type": "code",
   "execution_count": 90,
   "metadata": {},
   "outputs": [
    {
     "name": "stdout",
     "output_type": "stream",
     "text": [
      "Source: J16083070-3828268\n",
      "Drift speed = 0.013 km/s\n",
      "Dust mass = 29.08 earth masses, total disk mass =0.0087 solar masses\n",
      "tdrift = 0.096 Myr, M = 0.0087 solar masses, Qmin = 31.67\n",
      "Trapman iteration 0: t_drift= 1.335   Mass change  0.100 -->  0.243\n",
      "Trapman iteration 1: t_drift= 1.453   Mass change  0.243 -->  0.246\n",
      "tdrift = 1.453 Myr, M = 0.2453 solar masses, Qmin =  1.00\n"
     ]
    },
    {
     "name": "stderr",
     "output_type": "stream",
     "text": [
      "/var/folders/vy/3w_cyymn26g4jzqfnt1dv5xm0000gn/T/ipykernel_9352/1905761061.py:3: DeprecationWarning: Conversion of an array with ndim > 0 to a scalar is deprecated, and will error in future. Ensure you extract a single element from your array before performing this operation. (Deprecated NumPy 1.25.)\n",
      "  Sigma_drift[0] *= t\n"
     ]
    },
    {
     "name": "stdout",
     "output_type": "stream",
     "text": [
      "Source: Sz65\n",
      "Drift speed = 0.012 km/s\n",
      "Dust mass = 21.19 earth masses, total disk mass =0.0064 solar masses\n",
      "tdrift = 0.084 Myr, M = 0.0064 solar masses, Qmin = 34.47\n",
      "Trapman iteration 0: t_drift= 1.130   Mass change  0.100 -->  0.195\n",
      "tdrift = 1.130 Myr, M = 0.1765 solar masses, Qmin =  1.12\n"
     ]
    },
    {
     "name": "stderr",
     "output_type": "stream",
     "text": [
      "/var/folders/vy/3w_cyymn26g4jzqfnt1dv5xm0000gn/T/ipykernel_9352/1905761061.py:3: DeprecationWarning: Conversion of an array with ndim > 0 to a scalar is deprecated, and will error in future. Ensure you extract a single element from your array before performing this operation. (Deprecated NumPy 1.25.)\n",
      "  Sigma_drift[0] *= t\n"
     ]
    },
    {
     "name": "stdout",
     "output_type": "stream",
     "text": [
      "Source: MYLup\n",
      "Drift speed = 0.012 km/s\n",
      "Dust mass = 50.35 earth masses, total disk mass =0.0151 solar masses\n",
      "tdrift = 0.259 Myr, M = 0.0151 solar masses, Qmin = 15.86\n",
      "Trapman iteration 0: t_drift= 2.339   Mass change  0.100 -->  0.218\n",
      "Trapman iteration 1: t_drift= 2.493   Mass change  0.218 -->  0.220\n",
      "tdrift = 2.493 Myr, M = 0.2198 solar masses, Qmin =  1.00\n"
     ]
    },
    {
     "name": "stderr",
     "output_type": "stream",
     "text": [
      "/var/folders/vy/3w_cyymn26g4jzqfnt1dv5xm0000gn/T/ipykernel_9352/1905761061.py:3: DeprecationWarning: Conversion of an array with ndim > 0 to a scalar is deprecated, and will error in future. Ensure you extract a single element from your array before performing this operation. (Deprecated NumPy 1.25.)\n",
      "  Sigma_drift[0] *= t\n"
     ]
    },
    {
     "name": "stdout",
     "output_type": "stream",
     "text": [
      "Source: Sz71\n",
      "Drift speed = 0.013 km/s\n",
      "Dust mass = 50.06 earth masses, total disk mass =0.0150 solar masses\n",
      "tdrift = 0.138 Myr, M = 0.0150 solar masses, Qmin = 15.61\n",
      "Trapman iteration 0: t_drift= 1.082   Mass change  0.200 -->  0.216\n",
      "tdrift = 1.082 Myr, M = 0.2131 solar masses, Qmin =  1.01\n"
     ]
    },
    {
     "name": "stderr",
     "output_type": "stream",
     "text": [
      "/var/folders/vy/3w_cyymn26g4jzqfnt1dv5xm0000gn/T/ipykernel_9352/1905761061.py:3: DeprecationWarning: Conversion of an array with ndim > 0 to a scalar is deprecated, and will error in future. Ensure you extract a single element from your array before performing this operation. (Deprecated NumPy 1.25.)\n",
      "  Sigma_drift[0] *= t\n"
     ]
    },
    {
     "name": "stdout",
     "output_type": "stream",
     "text": [
      "Source: Sz118\n",
      "Drift speed = 0.012 km/s\n",
      "Dust mass = 18.37 earth masses, total disk mass =0.0055 solar masses\n",
      "tdrift = 0.111 Myr, M = 0.0055 solar masses, Qmin = 40.99\n",
      "Trapman iteration 0: t_drift= 2.070   Mass change  0.100 -->  0.200\n",
      "Trapman iteration 1: t_drift= 2.201   Mass change  0.200 -->  0.202\n",
      "tdrift = 2.201 Myr, M = 0.2013 solar masses, Qmin =  1.00\n"
     ]
    },
    {
     "name": "stderr",
     "output_type": "stream",
     "text": [
      "/var/folders/vy/3w_cyymn26g4jzqfnt1dv5xm0000gn/T/ipykernel_9352/1905761061.py:3: DeprecationWarning: Conversion of an array with ndim > 0 to a scalar is deprecated, and will error in future. Ensure you extract a single element from your array before performing this operation. (Deprecated NumPy 1.25.)\n",
      "  Sigma_drift[0] *= t\n"
     ]
    },
    {
     "name": "stdout",
     "output_type": "stream",
     "text": [
      "Source: Sz129\n",
      "Drift speed = 0.012 km/s\n",
      "Dust mass = 58.49 earth masses, total disk mass =0.0176 solar masses\n",
      "tdrift = 0.086 Myr, M = 0.0176 solar masses, Qmin = 10.15\n",
      "Trapman iteration 0: t_drift= 0.419   Mass change  0.200 -->  0.167\n",
      "tdrift = 0.419 Myr, M = 0.1747 solar masses, Qmin =  0.95\n"
     ]
    },
    {
     "name": "stderr",
     "output_type": "stream",
     "text": [
      "/var/folders/vy/3w_cyymn26g4jzqfnt1dv5xm0000gn/T/ipykernel_9352/1905761061.py:3: DeprecationWarning: Conversion of an array with ndim > 0 to a scalar is deprecated, and will error in future. Ensure you extract a single element from your array before performing this operation. (Deprecated NumPy 1.25.)\n",
      "  Sigma_drift[0] *= t\n"
     ]
    },
    {
     "name": "stdout",
     "output_type": "stream",
     "text": [
      "Source: Sz98\n",
      "Drift speed = 0.013 km/s\n",
      "Dust mass = 75.85 earth masses, total disk mass =0.0228 solar masses\n",
      "tdrift = 0.074 Myr, M = 0.0228 solar masses, Qmin = 11.09\n",
      "Trapman iteration 0: t_drift= 0.355   Mass change  0.200 -->  0.234\n",
      "tdrift = 0.355 Myr, M = 0.2245 solar masses, Qmin =  1.05\n"
     ]
    },
    {
     "name": "stderr",
     "output_type": "stream",
     "text": [
      "/var/folders/vy/3w_cyymn26g4jzqfnt1dv5xm0000gn/T/ipykernel_9352/1905761061.py:3: DeprecationWarning: Conversion of an array with ndim > 0 to a scalar is deprecated, and will error in future. Ensure you extract a single element from your array before performing this operation. (Deprecated NumPy 1.25.)\n",
      "  Sigma_drift[0] *= t\n"
     ]
    },
    {
     "name": "stdout",
     "output_type": "stream",
     "text": [
      "Source: Sz111\n",
      "Drift speed = 0.013 km/s\n",
      "Dust mass = 45.44 earth masses, total disk mass =0.0136 solar masses\n",
      "tdrift = 0.193 Myr, M = 0.0136 solar masses, Qmin = 22.41\n",
      "Trapman iteration 0: t_drift= 2.598   Mass change  0.100 -->  0.271\n",
      "Trapman iteration 1: t_drift= 2.780   Mass change  0.271 -->  0.275\n",
      "tdrift = 2.780 Myr, M = 0.2744 solar masses, Qmin =  1.00\n"
     ]
    },
    {
     "name": "stderr",
     "output_type": "stream",
     "text": [
      "/var/folders/vy/3w_cyymn26g4jzqfnt1dv5xm0000gn/T/ipykernel_9352/1905761061.py:3: DeprecationWarning: Conversion of an array with ndim > 0 to a scalar is deprecated, and will error in future. Ensure you extract a single element from your array before performing this operation. (Deprecated NumPy 1.25.)\n",
      "  Sigma_drift[0] *= t\n"
     ]
    },
    {
     "name": "stdout",
     "output_type": "stream",
     "text": [
      "Source: Sz130\n",
      "Drift speed = 0.012 km/s\n",
      "Dust mass =  1.50 earth masses, total disk mass =0.0005 solar masses\n",
      "tdrift = 0.011 Myr, M = 0.0005 solar masses, Qmin = 471.50\n",
      "Trapman iteration 0: t_drift= 0.981   Mass change  0.100 -->  0.171\n",
      "tdrift = 0.981 Myr, M = 0.1566 solar masses, Qmin =  1.11\n"
     ]
    },
    {
     "name": "stderr",
     "output_type": "stream",
     "text": [
      "/var/folders/vy/3w_cyymn26g4jzqfnt1dv5xm0000gn/T/ipykernel_9352/1905761061.py:3: DeprecationWarning: Conversion of an array with ndim > 0 to a scalar is deprecated, and will error in future. Ensure you extract a single element from your array before performing this operation. (Deprecated NumPy 1.25.)\n",
      "  Sigma_drift[0] *= t\n"
     ]
    },
    {
     "name": "stdout",
     "output_type": "stream",
     "text": [
      "Source: J16124373-3815031\n",
      "Drift speed = 0.012 km/s\n",
      "Dust mass =  9.04 earth masses, total disk mass =0.0027 solar masses\n",
      "tdrift = 0.084 Myr, M = 0.0027 solar masses, Qmin = 66.40\n",
      "Trapman iteration 0: t_drift= 2.280   Mass change  0.100 -->  0.158\n",
      "tdrift = 2.280 Myr, M = 0.1499 solar masses, Qmin =  1.06\n"
     ]
    },
    {
     "name": "stderr",
     "output_type": "stream",
     "text": [
      "/var/folders/vy/3w_cyymn26g4jzqfnt1dv5xm0000gn/T/ipykernel_9352/1905761061.py:3: DeprecationWarning: Conversion of an array with ndim > 0 to a scalar is deprecated, and will error in future. Ensure you extract a single element from your array before performing this operation. (Deprecated NumPy 1.25.)\n",
      "  Sigma_drift[0] *= t\n"
     ]
    },
    {
     "name": "stdout",
     "output_type": "stream",
     "text": [
      "Source: Sz68\n",
      "Drift speed = 0.012 km/s\n",
      "Dust mass = 49.80 earth masses, total disk mass =0.0150 solar masses\n",
      "tdrift = 0.146 Myr, M = 0.0150 solar masses, Qmin = 10.50\n",
      "Trapman iteration 0: t_drift= 0.745   Mass change  0.100 -->  0.146\n",
      "tdrift = 0.745 Myr, M = 0.1360 solar masses, Qmin =  1.08\n"
     ]
    },
    {
     "name": "stderr",
     "output_type": "stream",
     "text": [
      "/var/folders/vy/3w_cyymn26g4jzqfnt1dv5xm0000gn/T/ipykernel_9352/1905761061.py:3: DeprecationWarning: Conversion of an array with ndim > 0 to a scalar is deprecated, and will error in future. Ensure you extract a single element from your array before performing this operation. (Deprecated NumPy 1.25.)\n",
      "  Sigma_drift[0] *= t\n"
     ]
    },
    {
     "name": "stdout",
     "output_type": "stream",
     "text": [
      "Source: J162739.4-243915\n",
      "Drift speed = 0.012 km/s\n",
      "Dust mass = 36.61 earth masses, total disk mass =0.0110 solar masses\n",
      "tdrift = 0.273 Myr, M = 0.0110 solar masses, Qmin = 15.40\n",
      "Trapman iteration 0: t_drift= 2.290   Mass change  0.100 -->  0.156\n",
      "tdrift = 2.290 Myr, M = 0.1479 solar masses, Qmin =  1.06\n"
     ]
    },
    {
     "name": "stderr",
     "output_type": "stream",
     "text": [
      "/var/folders/vy/3w_cyymn26g4jzqfnt1dv5xm0000gn/T/ipykernel_9352/1905761061.py:3: DeprecationWarning: Conversion of an array with ndim > 0 to a scalar is deprecated, and will error in future. Ensure you extract a single element from your array before performing this operation. (Deprecated NumPy 1.25.)\n",
      "  Sigma_drift[0] *= t\n"
     ]
    },
    {
     "name": "stdout",
     "output_type": "stream",
     "text": [
      "Source: J162854.1-244744\n",
      "Drift speed = 0.012 km/s\n",
      "Dust mass =  7.58 earth masses, total disk mass =0.0023 solar masses\n",
      "tdrift = 0.076 Myr, M = 0.0023 solar masses, Qmin = 82.85\n",
      "Trapman iteration 0: t_drift= 2.562   Mass change  0.100 -->  0.163\n",
      "tdrift = 2.562 Myr, M = 0.1549 solar masses, Qmin =  1.06\n"
     ]
    },
    {
     "name": "stderr",
     "output_type": "stream",
     "text": [
      "/var/folders/vy/3w_cyymn26g4jzqfnt1dv5xm0000gn/T/ipykernel_9352/1905761061.py:3: DeprecationWarning: Conversion of an array with ndim > 0 to a scalar is deprecated, and will error in future. Ensure you extract a single element from your array before performing this operation. (Deprecated NumPy 1.25.)\n",
      "  Sigma_drift[0] *= t\n"
     ]
    },
    {
     "name": "stdout",
     "output_type": "stream",
     "text": [
      "Source: J162618.9-242820\n",
      "Drift speed = 0.012 km/s\n",
      "Dust mass = 54.86 earth masses, total disk mass =0.0165 solar masses\n",
      "tdrift = 0.267 Myr, M = 0.0165 solar masses, Qmin = 14.15\n",
      "Trapman iteration 0: t_drift= 2.143   Mass change  0.100 -->  0.213\n",
      "Trapman iteration 1: t_drift= 2.285   Mass change  0.213 -->  0.215\n",
      "tdrift = 2.285 Myr, M = 0.2150 solar masses, Qmin =  1.00\n"
     ]
    },
    {
     "name": "stderr",
     "output_type": "stream",
     "text": [
      "/var/folders/vy/3w_cyymn26g4jzqfnt1dv5xm0000gn/T/ipykernel_9352/1905761061.py:3: DeprecationWarning: Conversion of an array with ndim > 0 to a scalar is deprecated, and will error in future. Ensure you extract a single element from your array before performing this operation. (Deprecated NumPy 1.25.)\n",
      "  Sigma_drift[0] *= t\n"
     ]
    },
    {
     "name": "stdout",
     "output_type": "stream",
     "text": [
      "Source: J162645.0-242308\n",
      "Drift speed = 0.013 km/s\n",
      "Dust mass =113.81 earth masses, total disk mass =0.0342 solar masses\n",
      "tdrift = 0.223 Myr, M = 0.0342 solar masses, Qmin =  9.00\n",
      "Trapman iteration 0: t_drift= 1.117   Mass change  0.100 -->  0.282\n",
      "Trapman iteration 1: t_drift= 1.235   Mass change  0.282 -->  0.285\n",
      "tdrift = 1.235 Myr, M = 0.2849 solar masses, Qmin =  1.00\n"
     ]
    },
    {
     "name": "stderr",
     "output_type": "stream",
     "text": [
      "/var/folders/vy/3w_cyymn26g4jzqfnt1dv5xm0000gn/T/ipykernel_9352/1905761061.py:3: DeprecationWarning: Conversion of an array with ndim > 0 to a scalar is deprecated, and will error in future. Ensure you extract a single element from your array before performing this operation. (Deprecated NumPy 1.25.)\n",
      "  Sigma_drift[0] *= t\n"
     ]
    },
    {
     "name": "stdout",
     "output_type": "stream",
     "text": [
      "Source: J162823.3-242241\n",
      "Drift speed = 0.012 km/s\n",
      "Dust mass = 10.99 earth masses, total disk mass =0.0033 solar masses\n",
      "tdrift = 0.090 Myr, M = 0.0033 solar masses, Qmin = 81.07\n",
      "Trapman iteration 0: t_drift= 3.981   Mass change  0.100 -->  0.228\n",
      "Trapman iteration 1: t_drift= 4.183   Mass change  0.228 -->  0.230\n",
      "tdrift = 4.183 Myr, M = 0.2299 solar masses, Qmin =  1.00\n"
     ]
    },
    {
     "name": "stderr",
     "output_type": "stream",
     "text": [
      "/var/folders/vy/3w_cyymn26g4jzqfnt1dv5xm0000gn/T/ipykernel_9352/1905761061.py:3: DeprecationWarning: Conversion of an array with ndim > 0 to a scalar is deprecated, and will error in future. Ensure you extract a single element from your array before performing this operation. (Deprecated NumPy 1.25.)\n",
      "  Sigma_drift[0] *= t\n"
     ]
    },
    {
     "name": "stdout",
     "output_type": "stream",
     "text": [
      "Source: J162556.1-242048\n",
      "Drift speed = 0.011 km/s\n",
      "Dust mass = 38.45 earth masses, total disk mass =0.0115 solar masses\n",
      "tdrift = 0.704 Myr, M = 0.0115 solar masses, Qmin = 11.40\n",
      "Trapman iteration 0: t_drift= 5.233   Mass change  0.100 -->  0.121\n",
      "tdrift = 5.233 Myr, M = 0.1195 solar masses, Qmin =  1.02\n"
     ]
    },
    {
     "name": "stderr",
     "output_type": "stream",
     "text": [
      "/var/folders/vy/3w_cyymn26g4jzqfnt1dv5xm0000gn/T/ipykernel_9352/1905761061.py:3: DeprecationWarning: Conversion of an array with ndim > 0 to a scalar is deprecated, and will error in future. Ensure you extract a single element from your array before performing this operation. (Deprecated NumPy 1.25.)\n",
      "  Sigma_drift[0] *= t\n"
     ]
    },
    {
     "name": "stdout",
     "output_type": "stream",
     "text": [
      "Source: J162739.0-235818\n",
      "Drift speed = 0.011 km/s\n",
      "Dust mass = 20.26 earth masses, total disk mass =0.0061 solar masses\n",
      "tdrift = 0.147 Myr, M = 0.0061 solar masses, Qmin = 21.83\n",
      "Trapman iteration 0: t_drift= 1.466   Mass change  0.100 -->  0.120\n",
      "tdrift = 1.466 Myr, M = 0.1168 solar masses, Qmin =  1.03\n"
     ]
    },
    {
     "name": "stderr",
     "output_type": "stream",
     "text": [
      "/var/folders/vy/3w_cyymn26g4jzqfnt1dv5xm0000gn/T/ipykernel_9352/1905761061.py:3: DeprecationWarning: Conversion of an array with ndim > 0 to a scalar is deprecated, and will error in future. Ensure you extract a single element from your array before performing this operation. (Deprecated NumPy 1.25.)\n",
      "  Sigma_drift[0] *= t\n"
     ]
    },
    {
     "name": "stdout",
     "output_type": "stream",
     "text": [
      "Source: J162623.6-242439\n",
      "Drift speed = 0.013 km/s\n",
      "Dust mass = 80.97 earth masses, total disk mass =0.0243 solar masses\n",
      "tdrift = 0.091 Myr, M = 0.0243 solar masses, Qmin =  9.59\n",
      "Trapman iteration 0: t_drift= 0.370   Mass change  0.100 -->  0.216\n",
      "Trapman iteration 1: t_drift= 0.414   Mass change  0.216 -->  0.218\n",
      "tdrift = 0.414 Myr, M = 0.2178 solar masses, Qmin =  1.00\n"
     ]
    },
    {
     "name": "stderr",
     "output_type": "stream",
     "text": [
      "/var/folders/vy/3w_cyymn26g4jzqfnt1dv5xm0000gn/T/ipykernel_9352/1905761061.py:3: DeprecationWarning: Conversion of an array with ndim > 0 to a scalar is deprecated, and will error in future. Ensure you extract a single element from your array before performing this operation. (Deprecated NumPy 1.25.)\n",
      "  Sigma_drift[0] *= t\n"
     ]
    },
    {
     "name": "stdout",
     "output_type": "stream",
     "text": [
      "Source: J162738.3-243658\n",
      "Drift speed = 0.012 km/s\n",
      "Dust mass = 14.83 earth masses, total disk mass =0.0045 solar masses\n",
      "tdrift = 0.054 Myr, M = 0.0045 solar masses, Qmin = 51.48\n",
      "Trapman iteration 0: t_drift= 0.937   Mass change  0.100 -->  0.201\n",
      "Trapman iteration 1: t_drift= 1.015   Mass change  0.201 -->  0.203\n",
      "tdrift = 1.015 Myr, M = 0.2026 solar masses, Qmin =  1.00\n"
     ]
    },
    {
     "name": "stderr",
     "output_type": "stream",
     "text": [
      "/var/folders/vy/3w_cyymn26g4jzqfnt1dv5xm0000gn/T/ipykernel_9352/1905761061.py:3: DeprecationWarning: Conversion of an array with ndim > 0 to a scalar is deprecated, and will error in future. Ensure you extract a single element from your array before performing this operation. (Deprecated NumPy 1.25.)\n",
      "  Sigma_drift[0] *= t\n"
     ]
    },
    {
     "name": "stdout",
     "output_type": "stream",
     "text": [
      "Source: J11104959-7717517\n",
      "Drift speed = 0.012 km/s\n",
      "Dust mass = 21.07 earth masses, total disk mass =0.0063 solar masses\n",
      "tdrift = 0.087 Myr, M = 0.0063 solar masses, Qmin = 36.85\n",
      "Trapman iteration 0: t_drift= 1.299   Mass change  0.100 -->  0.207\n",
      "Trapman iteration 1: t_drift= 1.398   Mass change  0.207 -->  0.209\n",
      "tdrift = 1.398 Myr, M = 0.2084 solar masses, Qmin =  1.00\n"
     ]
    },
    {
     "name": "stderr",
     "output_type": "stream",
     "text": [
      "/var/folders/vy/3w_cyymn26g4jzqfnt1dv5xm0000gn/T/ipykernel_9352/1905761061.py:3: DeprecationWarning: Conversion of an array with ndim > 0 to a scalar is deprecated, and will error in future. Ensure you extract a single element from your array before performing this operation. (Deprecated NumPy 1.25.)\n",
      "  Sigma_drift[0] *= t\n",
      "/var/folders/vy/3w_cyymn26g4jzqfnt1dv5xm0000gn/T/ipykernel_9352/1905761061.py:3: DeprecationWarning: Conversion of an array with ndim > 0 to a scalar is deprecated, and will error in future. Ensure you extract a single element from your array before performing this operation. (Deprecated NumPy 1.25.)\n",
      "  Sigma_drift[0] *= t\n"
     ]
    },
    {
     "name": "stdout",
     "output_type": "stream",
     "text": [
      "Source: J11075792-7738449\n",
      "Drift speed = 0.013 km/s\n",
      "Dust mass =  7.42 earth masses, total disk mass =0.0022 solar masses\n",
      "tdrift = 0.032 Myr, M = 0.0022 solar masses, Qmin = 133.69\n",
      "Trapman iteration 0: t_drift= 1.507   Mass change  0.100 -->  0.245\n",
      "Trapman iteration 1: t_drift= 1.635   Mass change  0.245 -->  0.247\n",
      "tdrift = 1.635 Myr, M = 0.2467 solar masses, Qmin =  1.00\n",
      "Source: J11114632-7620092\n",
      "Drift speed = 0.012 km/s\n",
      "Dust mass = 13.39 earth masses, total disk mass =0.0040 solar masses\n",
      "tdrift = 0.057 Myr, M = 0.0040 solar masses, Qmin = 50.70\n",
      "Trapman iteration 0: t_drift= 0.985   Mass change  0.100 -->  0.179\n",
      "tdrift = 0.985 Myr, M = 0.1628 solar masses, Qmin =  1.11\n"
     ]
    },
    {
     "name": "stderr",
     "output_type": "stream",
     "text": [
      "/var/folders/vy/3w_cyymn26g4jzqfnt1dv5xm0000gn/T/ipykernel_9352/1905761061.py:3: DeprecationWarning: Conversion of an array with ndim > 0 to a scalar is deprecated, and will error in future. Ensure you extract a single element from your array before performing this operation. (Deprecated NumPy 1.25.)\n",
      "  Sigma_drift[0] *= t\n"
     ]
    },
    {
     "name": "stdout",
     "output_type": "stream",
     "text": [
      "Source: J11173700-7704381\n",
      "Drift speed = 0.012 km/s\n",
      "Dust mass = 10.44 earth masses, total disk mass =0.0031 solar masses\n",
      "tdrift = 0.017 Myr, M = 0.0031 solar masses, Qmin = 62.82\n",
      "Trapman iteration 0: t_drift= 0.208   Mass change  0.100 -->  0.173\n",
      "tdrift = 0.208 Myr, M = 0.1449 solar masses, Qmin =  1.21\n"
     ]
    },
    {
     "name": "stderr",
     "output_type": "stream",
     "text": [
      "/var/folders/vy/3w_cyymn26g4jzqfnt1dv5xm0000gn/T/ipykernel_9352/1905761061.py:3: DeprecationWarning: Conversion of an array with ndim > 0 to a scalar is deprecated, and will error in future. Ensure you extract a single element from your array before performing this operation. (Deprecated NumPy 1.25.)\n",
      "  Sigma_drift[0] *= t\n"
     ]
    },
    {
     "name": "stdout",
     "output_type": "stream",
     "text": [
      "Source: J11105333-7634319\n",
      "Drift speed = 0.012 km/s\n",
      "Dust mass = 12.00 earth masses, total disk mass =0.0036 solar masses\n",
      "tdrift = 0.025 Myr, M = 0.0036 solar masses, Qmin = 50.72\n",
      "Trapman iteration 0: t_drift= 0.310   Mass change  0.100 -->  0.162\n",
      "tdrift = 0.310 Myr, M = 0.1419 solar masses, Qmin =  1.15\n"
     ]
    },
    {
     "name": "stderr",
     "output_type": "stream",
     "text": [
      "/var/folders/vy/3w_cyymn26g4jzqfnt1dv5xm0000gn/T/ipykernel_9352/1905761061.py:3: DeprecationWarning: Conversion of an array with ndim > 0 to a scalar is deprecated, and will error in future. Ensure you extract a single element from your array before performing this operation. (Deprecated NumPy 1.25.)\n",
      "  Sigma_drift[0] *= t\n"
     ]
    },
    {
     "name": "stdout",
     "output_type": "stream",
     "text": [
      "Source: J11095340-7634255\n",
      "Drift speed = 0.013 km/s\n",
      "Dust mass = 28.46 earth masses, total disk mass =0.0085 solar masses\n",
      "tdrift = 0.062 Myr, M = 0.0085 solar masses, Qmin = 26.70\n",
      "Trapman iteration 0: t_drift= 0.571   Mass change  0.100 -->  0.206\n",
      "Trapman iteration 1: t_drift= 0.626   Mass change  0.206 -->  0.207\n",
      "tdrift = 0.626 Myr, M = 0.2067 solar masses, Qmin =  1.00\n"
     ]
    },
    {
     "name": "stderr",
     "output_type": "stream",
     "text": [
      "/var/folders/vy/3w_cyymn26g4jzqfnt1dv5xm0000gn/T/ipykernel_9352/1905761061.py:3: DeprecationWarning: Conversion of an array with ndim > 0 to a scalar is deprecated, and will error in future. Ensure you extract a single element from your array before performing this operation. (Deprecated NumPy 1.25.)\n",
      "  Sigma_drift[0] *= t\n"
     ]
    },
    {
     "name": "stdout",
     "output_type": "stream",
     "text": [
      "Source: J11123092-7644241\n",
      "Drift speed = 0.012 km/s\n",
      "Dust mass =  4.76 earth masses, total disk mass =0.0014 solar masses\n",
      "tdrift = 0.020 Myr, M = 0.0014 solar masses, Qmin = 127.16\n",
      "Trapman iteration 0: t_drift= 1.000   Mass change  0.100 -->  0.428\n",
      "Trapman iteration 1: t_drift= 0.672   Mass change  0.428 -->  0.158\n",
      "tdrift = 0.672 Myr, M = 0.1958 solar masses, Qmin =  0.79\n"
     ]
    },
    {
     "name": "stderr",
     "output_type": "stream",
     "text": [
      "/var/folders/vy/3w_cyymn26g4jzqfnt1dv5xm0000gn/T/ipykernel_9352/1905761061.py:3: DeprecationWarning: Conversion of an array with ndim > 0 to a scalar is deprecated, and will error in future. Ensure you extract a single element from your array before performing this operation. (Deprecated NumPy 1.25.)\n",
      "  Sigma_drift[0] *= t\n",
      "/var/folders/vy/3w_cyymn26g4jzqfnt1dv5xm0000gn/T/ipykernel_9352/3723220642.py:3: RuntimeWarning: invalid value encountered in log\n",
      "  Rc = (R[0]-R[1]) / np.log(Sigma[1]*R[1] / (Sigma[0]*R[0]))\n",
      "/var/folders/vy/3w_cyymn26g4jzqfnt1dv5xm0000gn/T/ipykernel_9352/4239094284.py:94: RuntimeWarning: The iteration is not making good progress, as measured by the \n",
      "  improvement from the last ten iterations.\n",
      "  t_drift = fsolve(toomre, t0, args=(R_obs, Sigma_iter, Mstar, Lstar))[0]\n"
     ]
    },
    {
     "name": "stdout",
     "output_type": "stream",
     "text": [
      "Source: J11085367-7521359\n",
      "Drift speed = 0.012 km/s\n",
      "Dust mass =  9.25 earth masses, total disk mass =0.0028 solar masses\n",
      "tdrift = 0.056 Myr, M = 0.0028 solar masses, Qmin = 83.16\n",
      "Trapman iteration 0: t_drift= 1.735   Mass change  0.100 -->  0.199\n",
      "tdrift = 1.735 Myr, M = 0.1833 solar masses, Qmin =  1.10\n"
     ]
    },
    {
     "name": "stderr",
     "output_type": "stream",
     "text": [
      "/var/folders/vy/3w_cyymn26g4jzqfnt1dv5xm0000gn/T/ipykernel_9352/1905761061.py:3: DeprecationWarning: Conversion of an array with ndim > 0 to a scalar is deprecated, and will error in future. Ensure you extract a single element from your array before performing this operation. (Deprecated NumPy 1.25.)\n",
      "  Sigma_drift[0] *= t\n"
     ]
    },
    {
     "name": "stdout",
     "output_type": "stream",
     "text": [
      "Source: J10590108-7722407\n",
      "Drift speed = 0.012 km/s\n",
      "Dust mass = 22.70 earth masses, total disk mass =0.0068 solar masses\n",
      "tdrift = 0.010 Myr, M = 0.0068 solar masses, Qmin = 27.34\n",
      "Trapman iteration 0: t_drift= 0.060   Mass change  0.200 -->  0.169\n",
      "tdrift = 0.060 Myr, M = 0.1864 solar masses, Qmin =  0.90\n"
     ]
    },
    {
     "name": "stderr",
     "output_type": "stream",
     "text": [
      "/var/folders/vy/3w_cyymn26g4jzqfnt1dv5xm0000gn/T/ipykernel_9352/1905761061.py:3: DeprecationWarning: Conversion of an array with ndim > 0 to a scalar is deprecated, and will error in future. Ensure you extract a single element from your array before performing this operation. (Deprecated NumPy 1.25.)\n",
      "  Sigma_drift[0] *= t\n"
     ]
    },
    {
     "name": "stdout",
     "output_type": "stream",
     "text": [
      "Source: J11095407-7629253\n",
      "Drift speed = 0.013 km/s\n",
      "Dust mass = 11.40 earth masses, total disk mass =0.0034 solar masses\n",
      "tdrift = 0.038 Myr, M = 0.0034 solar masses, Qmin = 82.32\n",
      "Trapman iteration 0: t_drift= 1.020   Mass change  0.100 -->  0.239\n",
      "Trapman iteration 1: t_drift= 1.119   Mass change  0.239 -->  0.242\n",
      "tdrift = 1.119 Myr, M = 0.2412 solar masses, Qmin =  1.00\n"
     ]
    },
    {
     "name": "stderr",
     "output_type": "stream",
     "text": [
      "/var/folders/vy/3w_cyymn26g4jzqfnt1dv5xm0000gn/T/ipykernel_9352/1905761061.py:3: DeprecationWarning: Conversion of an array with ndim > 0 to a scalar is deprecated, and will error in future. Ensure you extract a single element from your array before performing this operation. (Deprecated NumPy 1.25.)\n",
      "  Sigma_drift[0] *= t\n"
     ]
    }
   ],
   "source": [
    "# DO ALL SOURCES!\n",
    "f = open('drift_fit_results.txt', 'w')\n",
    "f.write(\"#Source             Age  Drift_min Drift_max  M_min   M_max\\n\")\n",
    "f.write(\"#-----------------------------------------------------------\\n\")\n",
    "for i in range(len(full_deco_df)):\n",
    "    td_min, td_max, M_min, M_max = fit_data(full_deco_df, i, None, None, plot_to_screen=False)\n",
    "    f.write(f\"{full_deco_df['Source'][i]:17s} {(full_deco_df['age'][i]):4.1f}  {td_min:6.3f}     {td_max:6.3f}  {M_min:7.4f} {M_max:7.4f}\\n\")\n",
    "f.close()"
   ]
  },
  {
   "cell_type": "code",
   "execution_count": 89,
   "metadata": {},
   "outputs": [
    {
     "name": "stdout",
     "output_type": "stream",
     "text": [
      "Source: CIDA1\n",
      "Drift speed = 0.016 km/s\n",
      "Dust mass =  7.00 earth masses, total disk mass =0.0021 solar masses\n",
      "tdrift = 0.097 Myr, M = 0.0021 solar masses, Qmin = 47.03\n",
      "Trapman iteration 0: t_drift= 2.677   Mass change  0.100 -->  0.087\n",
      "tdrift = 2.677 Myr, M = 0.0885 solar masses, Qmin =  0.99\n",
      "Source: CIDA7\n",
      "Drift speed = 0.014 km/s\n",
      "Dust mass =  5.00 earth masses, total disk mass =0.0015 solar masses\n",
      "tdrift = 0.186 Myr, M = 0.0015 solar masses, Qmin = 46.07\n",
      "Trapman iteration 0: t_drift= 6.456   Mass change  0.100 -->  0.062\n",
      "tdrift = 6.456 Myr, M = 0.0632 solar masses, Qmin =  0.97\n",
      "Source: CITau\n",
      "Drift speed = 0.010 km/s\n",
      "Dust mass = 53.00 earth masses, total disk mass =0.0159 solar masses\n",
      "tdrift = 0.105 Myr, M = 0.0159 solar masses, Qmin = 23.97\n",
      "Trapman iteration 0: t_drift= 0.962   Mass change  0.100 -->  0.334\n",
      "Trapman iteration 1: t_drift= 1.108   Mass change  0.334 -->  0.340\n",
      "tdrift = 1.108 Myr, M = 0.3389 solar masses, Qmin =  1.00\n",
      "Source: CXTau\n",
      "Drift speed = 0.011 km/s\n",
      "Dust mass =  5.00 earth masses, total disk mass =0.0015 solar masses\n",
      "tdrift = 0.103 Myr, M = 0.0015 solar masses, Qmin = 86.75\n",
      "Trapman iteration 0: t_drift= 5.177   Mass change  0.100 -->  0.112\n",
      "tdrift = 5.177 Myr, M = 0.1115 solar masses, Qmin =  1.01\n",
      "Source: CYTau\n",
      "Drift speed = 0.013 km/s\n",
      "Dust mass = 63.00 earth masses, total disk mass =0.0189 solar masses\n",
      "tdrift = 0.416 Myr, M = 0.0189 solar masses, Qmin =  8.54\n",
      "Trapman iteration 0: t_drift= 2.750   Mass change  0.100 -->  0.150\n",
      "tdrift = 2.750 Myr, M = 0.1465 solar masses, Qmin =  1.03\n",
      "Source: DLTau\n",
      "Drift speed = 0.008 km/s\n",
      "Dust mass =130.00 earth masses, total disk mass =0.0390 solar masses\n",
      "tdrift = 0.734 Myr, M = 0.0390 solar masses, Qmin = 10.36\n",
      "Trapman iteration 0: t_drift= 5.566   Mass change  0.100 -->  0.365\n",
      "Trapman iteration 1: t_drift= 5.948   Mass change  0.365 -->  0.371\n",
      "tdrift = 5.948 Myr, M = 0.3712 solar masses, Qmin =  1.00\n",
      "Source: DMTau\n",
      "Drift speed = 0.008 km/s\n",
      "Dust mass = 34.00 earth masses, total disk mass =0.0102 solar masses\n",
      "tdrift = 0.176 Myr, M = 0.0102 solar masses, Qmin = 31.78\n",
      "Trapman iteration 0: t_drift= 5.161   Mass change  0.100 -->  0.273\n",
      "Trapman iteration 1: t_drift= 5.316   Mass change  0.273 -->  0.278\n",
      "tdrift = 5.316 Myr, M = 0.2775 solar masses, Qmin =  1.00\n",
      "Source: DNTau\n",
      "Drift speed = 0.009 km/s\n",
      "Dust mass = 43.00 earth masses, total disk mass =0.0129 solar masses\n",
      "tdrift = 0.169 Myr, M = 0.0129 solar masses, Qmin = 20.88\n",
      "Trapman iteration 0: t_drift= 1.552   Mass change  0.100 -->  0.242\n",
      "Trapman iteration 1: t_drift= 1.710   Mass change  0.242 -->  0.245\n",
      "tdrift = 1.710 Myr, M = 0.2445 solar masses, Qmin =  1.00\n",
      "Source: DoAr25\n",
      "Drift speed = 0.010 km/s\n",
      "Dust mass =119.00 earth masses, total disk mass =0.0357 solar masses\n",
      "tdrift = 0.057 Myr, M = 0.0357 solar masses, Qmin =  7.73\n",
      "Trapman iteration 0: t_drift= 0.101   Mass change  0.010 -->  0.252\n",
      "Trapman iteration 1: t_drift= 0.183   Mass change  0.252 -->  0.260\n",
      "tdrift = 0.183 Myr, M = 0.2567 solar masses, Qmin =  1.01\n",
      "Source: DoAr33\n",
      "Drift speed = 0.009 km/s\n",
      "Dust mass = 17.00 earth masses, total disk mass =0.0051 solar masses\n",
      "tdrift = 0.159 Myr, M = 0.0051 solar masses, Qmin = 36.00\n",
      "Trapman iteration 0: t_drift= 2.202   Mass change  0.100 -->  0.163\n",
      "tdrift = 2.202 Myr, M = 0.1521 solar masses, Qmin =  1.08\n",
      "Source: FPTau\n",
      "Drift speed = 0.010 km/s\n",
      "Dust mass =  4.00 earth masses, total disk mass =0.0012 solar masses\n",
      "tdrift = 0.008 Myr, M = 0.0012 solar masses, Qmin = 84.22\n",
      "Trapman iteration 0: t_drift= 0.076   Mass change  0.010 -->  0.085\n",
      "Trapman iteration 1: t_drift= 0.122   Mass change  0.085 -->  0.088\n",
      "tdrift = 0.122 Myr, M = 0.0862 solar masses, Qmin =  1.02\n",
      "Source: GOTau\n",
      "Drift speed = 0.010 km/s\n",
      "Dust mass = 40.00 earth masses, total disk mass =0.0120 solar masses\n",
      "tdrift = 0.149 Myr, M = 0.0120 solar masses, Qmin = 26.76\n",
      "Trapman iteration 0: t_drift= 4.624   Mass change  0.100 -->  0.277\n",
      "Trapman iteration 1: t_drift= 4.632   Mass change  0.277 -->  0.283\n",
      "tdrift = 4.632 Myr, M = 0.2830 solar masses, Qmin =  1.00\n",
      "Source: GWLup\n",
      "Drift speed = 0.011 km/s\n",
      "Dust mass = 54.00 earth masses, total disk mass =0.0162 solar masses\n",
      "tdrift = 0.273 Myr, M = 0.0162 solar masses, Qmin = 11.92\n",
      "Trapman iteration 0: t_drift= 1.959   Mass change  0.100 -->  0.177\n",
      "tdrift = 1.959 Myr, M = 0.1662 solar masses, Qmin =  1.08\n",
      "Source: HD142666\n",
      "Drift speed = 0.013 km/s\n",
      "Dust mass = 67.00 earth masses, total disk mass =0.0201 solar masses\n",
      "tdrift = 0.366 Myr, M = 0.0201 solar masses, Qmin = 20.32\n",
      "Trapman iteration 0: t_drift= 3.750   Mass change  0.100 -->  0.373\n",
      "Trapman iteration 1: t_drift= 4.050   Mass change  0.373 -->  0.376\n",
      "tdrift = 4.050 Myr, M = 0.3757 solar masses, Qmin =  1.00\n",
      "Source: HD143006\n",
      "Drift speed = 0.009 km/s\n",
      "Dust mass = 41.00 earth masses, total disk mass =0.0123 solar masses\n",
      "tdrift = 0.067 Myr, M = 0.0123 solar masses, Qmin = 30.61\n",
      "Trapman iteration 0: t_drift= 0.594   Mass change  0.300 -->  0.342\n",
      "tdrift = 0.594 Myr, M = 0.3324 solar masses, Qmin =  1.03\n",
      "Source: HD163296\n",
      "Drift speed = 0.014 km/s\n",
      "Dust mass =185.00 earth masses, total disk mass =0.0556 solar masses\n",
      "tdrift = 0.480 Myr, M = 0.0555 solar masses, Qmin = 12.97\n",
      "Trapman iteration 0: t_drift= 3.580   Mass change  0.100 -->  0.662\n",
      "Trapman iteration 1: t_drift= 3.907   Mass change  0.662 -->  0.669\n",
      "tdrift = 3.907 Myr, M = 0.6682 solar masses, Qmin =  1.00\n",
      "Source: IMLup\n",
      "Drift speed = 0.014 km/s\n",
      "Dust mass =160.00 earth masses, total disk mass =0.0481 solar masses\n",
      "tdrift = 0.298 Myr, M = 0.0480 solar masses, Qmin = 10.33\n",
      "Trapman iteration 0: t_drift= 1.915   Mass change  0.100 -->  0.448\n",
      "Trapman iteration 1: t_drift= 2.102   Mass change  0.448 -->  0.455\n",
      "tdrift = 2.102 Myr, M = 0.4548 solar masses, Qmin =  1.00\n",
      "Source: IQTau\n",
      "Drift speed = 0.007 km/s\n",
      "Dust mass = 30.00 earth masses, total disk mass =0.0090 solar masses\n",
      "tdrift = 0.076 Myr, M = 0.0090 solar masses, Qmin = 23.54\n",
      "Trapman iteration 0: t_drift= 0.644   Mass change  0.200 -->  0.191\n",
      "tdrift = 0.644 Myr, M = 0.1942 solar masses, Qmin =  0.98\n",
      "Source: J04202555+2700355\n",
      "Drift speed = 0.014 km/s\n",
      "Dust mass =  5.00 earth masses, total disk mass =0.0015 solar masses\n",
      "tdrift = 0.016 Myr, M = 0.0015 solar masses, Qmin = 34.41\n",
      "Trapman iteration 0: t_drift= 0.125   Mass change  0.010 -->  0.045\n",
      "Trapman iteration 1: t_drift= 0.172   Mass change  0.045 -->  0.046\n",
      "tdrift = 0.172 Myr, M = 0.0454 solar masses, Qmin =  1.01\n",
      "Source: J04334465+2615005\n",
      "Drift speed = 0.017 km/s\n",
      "Dust mass = 12.00 earth masses, total disk mass =0.0036 solar masses\n",
      "tdrift = 0.076 Myr, M = 0.0036 solar masses, Qmin = 25.21\n",
      "Trapman iteration 0: t_drift= 1.040   Mass change  0.100 -->  0.082\n",
      "tdrift = 1.040 Myr, M = 0.0843 solar masses, Qmin =  0.97\n"
     ]
    }
   ],
   "source": [
    "# PANEL PLOT\n",
    "fig = plt.figure(figsize=(24, 20))\n",
    "df_indices = range(1,21)\n",
    "#df_indices = range(21,41)\n",
    "ny = 5\n",
    "nx = 4\n",
    "for nplot, iloc in enumerate(df_indices):\n",
    "    ax = fig.add_subplot(ny, nx, nplot+1)\n",
    "    ax2 = ax.twinx()\n",
    "    ax2.set_yticks([])\n",
    "    #ax2.set_yscale('log')\n",
    "    #ax2.set_ylim(0.1, 100)\n",
    "    td_min, td_max, M_min, M_max = fit_data(df, iloc, plot_to_screen=False, panelplot=True, ax=ax)\n",
    "    if nplot in [16, 17, 18, 19]:\n",
    "        ax.set_xlabel('r (au)', fontsize=16)\n",
    "    if nplot in [0, 4, 8, 12, 16]:\n",
    "        ax.set_ylabel(r'$\\Sigma_{\\rm gas}$ (g cm$^{-2}$)', fontsize=16)\n",
    "    if nplot in [3, 7, 11, 15, 19]:\n",
    "        ax2.yaxis.set_label_coords(1.08,0.0)\n",
    "        ax2.set_ylabel('Toomre Q', fontsize=16)\n",
    "\n",
    "fig.tight_layout()\n",
    "fig.savefig('panelplot.pdf', dpi=600)"
   ]
  },
  {
   "cell_type": "code",
   "execution_count": null,
   "metadata": {},
   "outputs": [],
   "source": []
  }
 ],
 "metadata": {
  "kernelspec": {
   "display_name": "Python 3",
   "language": "python",
   "name": "python3"
  },
  "language_info": {
   "codemirror_mode": {
    "name": "ipython",
    "version": 3
   },
   "file_extension": ".py",
   "mimetype": "text/x-python",
   "name": "python",
   "nbconvert_exporter": "python",
   "pygments_lexer": "ipython3",
   "version": "3.12.4"
  }
 },
 "nbformat": 4,
 "nbformat_minor": 4
}
